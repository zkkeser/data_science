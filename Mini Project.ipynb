{
 "cells": [
  {
   "cell_type": "markdown",
   "metadata": {},
   "source": [
    "# Methodology key section\n",
    "## Data verzameling en beschrijving van de data\n",
    "## Hoe is de data verzameld\n",
    "## Wat staat er in de data\n",
    "\n",
    "In de data is allerlei informatie terug te vinden over de scores van verschillende scholen. Elke rij is een school en per school is er informatie te zien, zoals de gemeente waar de school bij hoort, plaats, type score, score, verwachte score. Niet alle informatie is voor ons relevant. Wij houdenons bezig met de cito scores, dus de scores van andere toetsen (bijv. LVS) moeten uit de data worden gehaald. In de\n",
    "## Hoe gaan we de vraag beantwoorden\n",
    "\n",
    "We gaan proberen de vraag te beantwoorden door te kijken naar de prestaties van de type scholen, dit is dus niet alleen op basis van wie de hoogste score haalt, maar ook welke scholen veel verbetering hebben gezien in de laatste jaren. Er wordt dus gekeken naar hoe hoog de scholen scoren op basis van het gemiddelde en ook naar hoeveel verbetering er is te zien bij deze scholen. Hiernaast wordt er een voorspelling gedaan \n",
    "## Appendix"
   ]
  },
  {
   "cell_type": "code",
   "execution_count": 44,
   "metadata": {
    "collapsed": true
   },
   "outputs": [],
   "source": [
    "import pandas as pd\n",
    "import numpy as np\n",
    "import matplotlib.pyplot as plt\n",
    "%matplotlib inline"
   ]
  },
  {
   "cell_type": "code",
   "execution_count": 72,
   "metadata": {
    "collapsed": false
   },
   "outputs": [
    {
     "data": {
      "text/html": [
       "<div>\n",
       "<table border=\"1\" class=\"dataframe\">\n",
       "  <thead>\n",
       "    <tr style=\"text-align: right;\">\n",
       "      <th></th>\n",
       "      <th>LEERJAAR_8</th>\n",
       "      <th>PLAATSNAAM</th>\n",
       "      <th>SCORE_2013</th>\n",
       "      <th>SCORE_2014</th>\n",
       "      <th>SCORE_2015</th>\n",
       "      <th>verwachtecito</th>\n",
       "      <th>DENOMINATIE_VESTIGING</th>\n",
       "    </tr>\n",
       "  </thead>\n",
       "  <tbody>\n",
       "    <tr>\n",
       "      <th>312</th>\n",
       "      <td>51</td>\n",
       "      <td>BUSSUM</td>\n",
       "      <td>547.2</td>\n",
       "      <td>545.9</td>\n",
       "      <td>546.2</td>\n",
       "      <td>539,7470347</td>\n",
       "      <td>Algemeen bijzonder</td>\n",
       "    </tr>\n",
       "    <tr>\n",
       "      <th>363</th>\n",
       "      <td>28</td>\n",
       "      <td>'S-GRAVENHAGE</td>\n",
       "      <td>544.7</td>\n",
       "      <td>545.4</td>\n",
       "      <td>546.0</td>\n",
       "      <td>539,5965154</td>\n",
       "      <td>Algemeen bijzonder</td>\n",
       "    </tr>\n",
       "    <tr>\n",
       "      <th>317</th>\n",
       "      <td>7</td>\n",
       "      <td>WINTERSWIJK MISTE</td>\n",
       "      <td>544.4</td>\n",
       "      <td>540.2</td>\n",
       "      <td>545.7</td>\n",
       "      <td>536,043378</td>\n",
       "      <td>Openbaar</td>\n",
       "    </tr>\n",
       "    <tr>\n",
       "      <th>397</th>\n",
       "      <td>33</td>\n",
       "      <td>HILVERSUM</td>\n",
       "      <td>544.2</td>\n",
       "      <td>544.7</td>\n",
       "      <td>545.7</td>\n",
       "      <td>539,4962388</td>\n",
       "      <td>Algemeen bijzonder</td>\n",
       "    </tr>\n",
       "    <tr>\n",
       "      <th>308</th>\n",
       "      <td>9</td>\n",
       "      <td>STEENSEL</td>\n",
       "      <td>538.9</td>\n",
       "      <td>546.0</td>\n",
       "      <td>545.6</td>\n",
       "      <td>536,8347325</td>\n",
       "      <td>Rooms-Katholiek</td>\n",
       "    </tr>\n",
       "  </tbody>\n",
       "</table>\n",
       "</div>"
      ],
      "text/plain": [
       "     LEERJAAR_8         PLAATSNAAM SCORE_2013 SCORE_2014 SCORE_2015  \\\n",
       "312          51             BUSSUM      547.2      545.9      546.2   \n",
       "363          28      'S-GRAVENHAGE      544.7      545.4      546.0   \n",
       "317           7  WINTERSWIJK MISTE      544.4      540.2      545.7   \n",
       "397          33          HILVERSUM      544.2      544.7      545.7   \n",
       "308           9           STEENSEL      538.9      546.0      545.6   \n",
       "\n",
       "    verwachtecito DENOMINATIE_VESTIGING  \n",
       "312   539,7470347    Algemeen bijzonder  \n",
       "363   539,5965154    Algemeen bijzonder  \n",
       "317    536,043378              Openbaar  \n",
       "397   539,4962388    Algemeen bijzonder  \n",
       "308   536,8347325       Rooms-Katholiek  "
      ]
     },
     "execution_count": 72,
     "metadata": {},
     "output_type": "execute_result"
    }
   ],
   "source": [
    "# data inlezen\n",
    "data = pd.read_csv('RTLNieuwseindtoetscijfers2015.csv', sep=';', decimal=\",\")\n",
    "# de relevante kolommen selecteren\n",
    "clean_data = data.loc[:,['LEERJAAR_8','PLAATSNAAM', 'TOETS_2013','SCORE_2013','TOETS_2014','SCORE_2014','TOETS_2015','SCORE_2015','verwachtecito','DENOMINATIE_VESTIGING']]\n",
    "clean_data.head()\n",
    "\n",
    "# de incomplete rijen verwijderen\n",
    "clean_data = clean_data[clean_data.SCORE_2013 != '#LEEG!']\n",
    "clean_data = clean_data[clean_data.SCORE_2014 != '#LEEG!']\n",
    "clean_data = clean_data[clean_data.SCORE_2015 != '#LEEG!']\n",
    "# alleen rijen gebruiken die CITO scores bevatten\n",
    "clean_data = clean_data[clean_data.TOETS_2013 == 'cito']\n",
    "clean_data = clean_data[clean_data.TOETS_2014 == 'cito']\n",
    "clean_data = clean_data[clean_data.TOETS_2015 == 'Cito']\n",
    "clean_data = clean_data[clean_data.verwachtecito != '#LEEG!']\n",
    "# alleen rijen gebruiken die meer dan 5 leerlingen hebben die de cito toets hebben gedaan\n",
    "clean_data = clean_data[clean_data.LEERJAAR_8 > 5]\n",
    "# de comma's in punten veranderen zodat de data bruikbaar wordt\n",
    "clean_data['SCORE_2013'] = clean_data['SCORE_2013'].str.replace(',','.')\n",
    "clean_data['SCORE_2014'] = clean_data['SCORE_2014'].str.replace(',','.')\n",
    "clean_data['SCORE_2015'] = clean_data['SCORE_2015'].str.replace(',','.')\n",
    "# opnieuw de benodigde kolommen selecteren\n",
    "clean_data = clean_data.loc[:,['LEERJAAR_8','PLAATSNAAM', 'SCORE_2013','SCORE_2014','SCORE_2015','verwachtecito','DENOMINATIE_VESTIGING']]\n",
    "\n",
    "\n",
    "\n",
    "clean_data.sort_values(by='SCORE_2015',ascending=False).head()"
   ]
  },
  {
   "cell_type": "markdown",
   "metadata": {
    "collapsed": true
   },
   "source": [
    "### 1. Wat zijn de top 10 scholen in 2015 die het meest verbeterd zijn in vergelijking met 2013 gebaseerd op denominatie? En welke het minst?\n",
    "\n",
    "met andere woorden, welke denominatie heeft de meeste verbetering?"
   ]
  },
  {
   "cell_type": "code",
   "execution_count": 74,
   "metadata": {
    "collapsed": false
   },
   "outputs": [
    {
     "data": {
      "text/html": [
       "<div>\n",
       "<table border=\"1\" class=\"dataframe\">\n",
       "  <thead>\n",
       "    <tr style=\"text-align: right;\">\n",
       "      <th></th>\n",
       "      <th>IMPROVEMENT</th>\n",
       "    </tr>\n",
       "    <tr>\n",
       "      <th>DENOMINATIE_VESTIGING</th>\n",
       "      <th></th>\n",
       "    </tr>\n",
       "  </thead>\n",
       "  <tbody>\n",
       "    <tr>\n",
       "      <th>Hindoeistisch</th>\n",
       "      <td>3.320000</td>\n",
       "    </tr>\n",
       "    <tr>\n",
       "      <th>Joods</th>\n",
       "      <td>2.200000</td>\n",
       "    </tr>\n",
       "    <tr>\n",
       "      <th>Evangelisch</th>\n",
       "      <td>1.375000</td>\n",
       "    </tr>\n",
       "    <tr>\n",
       "      <th>Islamitisch</th>\n",
       "      <td>0.826471</td>\n",
       "    </tr>\n",
       "    <tr>\n",
       "      <th>Gereformeerd vrijgemaakt</th>\n",
       "      <td>0.792647</td>\n",
       "    </tr>\n",
       "    <tr>\n",
       "      <th>Interconfessioneel</th>\n",
       "      <td>0.500000</td>\n",
       "    </tr>\n",
       "    <tr>\n",
       "      <th>Rooms-Katholiek</th>\n",
       "      <td>0.375583</td>\n",
       "    </tr>\n",
       "    <tr>\n",
       "      <th>Openbaar</th>\n",
       "      <td>0.216815</td>\n",
       "    </tr>\n",
       "    <tr>\n",
       "      <th>Reformatorisch</th>\n",
       "      <td>0.178378</td>\n",
       "    </tr>\n",
       "    <tr>\n",
       "      <th>Protestants-Christelijk</th>\n",
       "      <td>0.137906</td>\n",
       "    </tr>\n",
       "    <tr>\n",
       "      <th>Algemeen bijzonder</th>\n",
       "      <td>-0.021229</td>\n",
       "    </tr>\n",
       "    <tr>\n",
       "      <th>Samenwerking PC, RK</th>\n",
       "      <td>-0.343243</td>\n",
       "    </tr>\n",
       "    <tr>\n",
       "      <th>Samenwerking Opb., RK</th>\n",
       "      <td>-1.500000</td>\n",
       "    </tr>\n",
       "    <tr>\n",
       "      <th>Antroposofisch</th>\n",
       "      <td>-2.300000</td>\n",
       "    </tr>\n",
       "    <tr>\n",
       "      <th>Samenwerking Opb., PC</th>\n",
       "      <td>-2.900000</td>\n",
       "    </tr>\n",
       "  </tbody>\n",
       "</table>\n",
       "</div>"
      ],
      "text/plain": [
       "                          IMPROVEMENT\n",
       "DENOMINATIE_VESTIGING                \n",
       "Hindoeistisch                3.320000\n",
       "Joods                        2.200000\n",
       "Evangelisch                  1.375000\n",
       "Islamitisch                  0.826471\n",
       "Gereformeerd vrijgemaakt     0.792647\n",
       "Interconfessioneel           0.500000\n",
       "Rooms-Katholiek              0.375583\n",
       "Openbaar                     0.216815\n",
       "Reformatorisch               0.178378\n",
       "Protestants-Christelijk      0.137906\n",
       "Algemeen bijzonder          -0.021229\n",
       "Samenwerking PC, RK         -0.343243\n",
       "Samenwerking Opb., RK       -1.500000\n",
       "Antroposofisch              -2.300000\n",
       "Samenwerking Opb., PC       -2.900000"
      ]
     },
     "execution_count": 74,
     "metadata": {},
     "output_type": "execute_result"
    }
   ],
   "source": [
    "# we need to know which school had the best improvement between 2013 and 2015.\n",
    "# so, 2015 minus 2013 should give us the difference.\n",
    "data_1 = clean_data.loc[:,['DENOMINATIE_VESTIGING','SCORE_2013','SCORE_2015']]\n",
    "# add the column 'DIFFERENCE'\n",
    "data_1['IMPROVEMENT'] = data_1['SCORE_2015'].astype(float) - data_1['SCORE_2013'].astype(float)\n",
    "\n",
    "    \n",
    "data_1.sort_values(by='IMPROVEMENT',ascending=False)[:10]\n",
    "\n",
    "# group by denomination and sort by improvement rating\n",
    "grouped = data_1.groupby(['DENOMINATIE_VESTIGING']).mean().sort_values(by='IMPROVEMENT',ascending=False)\n",
    "grouped"
   ]
  },
  {
   "cell_type": "code",
   "execution_count": 79,
   "metadata": {
    "collapsed": false
   },
   "outputs": [
    {
     "name": "stdout",
     "output_type": "stream",
     "text": [
      "Verdeling aantal type scholen\n"
     ]
    },
    {
     "data": {
      "text/html": [
       "<div>\n",
       "<table border=\"1\" class=\"dataframe\">\n",
       "  <thead>\n",
       "    <tr style=\"text-align: right;\">\n",
       "      <th></th>\n",
       "      <th>IMPROVEMENT</th>\n",
       "    </tr>\n",
       "    <tr>\n",
       "      <th>DENOMINATIE_VESTIGING</th>\n",
       "      <th></th>\n",
       "    </tr>\n",
       "  </thead>\n",
       "  <tbody>\n",
       "    <tr>\n",
       "      <th>Rooms-Katholiek</th>\n",
       "      <td>1544</td>\n",
       "    </tr>\n",
       "    <tr>\n",
       "      <th>Openbaar</th>\n",
       "      <td>1457</td>\n",
       "    </tr>\n",
       "    <tr>\n",
       "      <th>Protestants-Christelijk</th>\n",
       "      <td>1108</td>\n",
       "    </tr>\n",
       "    <tr>\n",
       "      <th>Algemeen bijzonder</th>\n",
       "      <td>179</td>\n",
       "    </tr>\n",
       "    <tr>\n",
       "      <th>Reformatorisch</th>\n",
       "      <td>111</td>\n",
       "    </tr>\n",
       "    <tr>\n",
       "      <th>Gereformeerd vrijgemaakt</th>\n",
       "      <td>68</td>\n",
       "    </tr>\n",
       "    <tr>\n",
       "      <th>Samenwerking PC, RK</th>\n",
       "      <td>37</td>\n",
       "    </tr>\n",
       "    <tr>\n",
       "      <th>Islamitisch</th>\n",
       "      <td>34</td>\n",
       "    </tr>\n",
       "    <tr>\n",
       "      <th>Antroposofisch</th>\n",
       "      <td>6</td>\n",
       "    </tr>\n",
       "    <tr>\n",
       "      <th>Hindoeistisch</th>\n",
       "      <td>5</td>\n",
       "    </tr>\n",
       "    <tr>\n",
       "      <th>Evangelisch</th>\n",
       "      <td>4</td>\n",
       "    </tr>\n",
       "    <tr>\n",
       "      <th>Interconfessioneel</th>\n",
       "      <td>4</td>\n",
       "    </tr>\n",
       "    <tr>\n",
       "      <th>Samenwerking Opb., RK</th>\n",
       "      <td>3</td>\n",
       "    </tr>\n",
       "    <tr>\n",
       "      <th>Joods</th>\n",
       "      <td>2</td>\n",
       "    </tr>\n",
       "    <tr>\n",
       "      <th>Samenwerking Opb., PC</th>\n",
       "      <td>2</td>\n",
       "    </tr>\n",
       "  </tbody>\n",
       "</table>\n",
       "</div>"
      ],
      "text/plain": [
       "                          IMPROVEMENT\n",
       "DENOMINATIE_VESTIGING                \n",
       "Rooms-Katholiek                  1544\n",
       "Openbaar                         1457\n",
       "Protestants-Christelijk          1108\n",
       "Algemeen bijzonder                179\n",
       "Reformatorisch                    111\n",
       "Gereformeerd vrijgemaakt           68\n",
       "Samenwerking PC, RK                37\n",
       "Islamitisch                        34\n",
       "Antroposofisch                      6\n",
       "Hindoeistisch                       5\n",
       "Evangelisch                         4\n",
       "Interconfessioneel                  4\n",
       "Samenwerking Opb., RK               3\n",
       "Joods                               2\n",
       "Samenwerking Opb., PC               2"
      ]
     },
     "execution_count": 79,
     "metadata": {},
     "output_type": "execute_result"
    }
   ],
   "source": [
    "# verdeling type scholen\n",
    "num_group = data_1.loc[:,['DENOMINATIE_VESTIGING','IMPROVEMENT']]\n",
    "num_group = num_group.groupby(['DENOMINATIE_VESTIGING']).count()\n",
    "print 'Verdeling aantal type scholen'\n",
    "num_group.sort_values(by='IMPROVEMENT',ascending=False)\n"
   ]
  },
  {
   "cell_type": "markdown",
   "metadata": {},
   "source": [
    "### Hoeveel scholen zien verbetering?"
   ]
  },
  {
   "cell_type": "code",
   "execution_count": null,
   "metadata": {
    "collapsed": true
   },
   "outputs": [],
   "source": []
  },
  {
   "cell_type": "code",
   "execution_count": 48,
   "metadata": {
    "collapsed": false
   },
   "outputs": [
    {
     "name": "stdout",
     "output_type": "stream",
     "text": [
      "Percentage scholen die verbetering zien ten opzichte van 2013:  51.5775635408 %\n"
     ]
    }
   ],
   "source": [
    "data_1.head()\n",
    "num_improved = 0\n",
    "num_not_improved = 0\n",
    "\n",
    "for x in data_1['IMPROVEMENT']:\n",
    "    if x > 0:\n",
    "        \n",
    "        num_improved += 1\n",
    "    else:\n",
    "        num_not_improved += 1\n",
    "        \n",
    "total = num_improved + float(num_not_improved)\n",
    "print \"Percentage scholen die verbetering zien ten opzichte van 2013: \", (num_improved/total)*100.0,\"%\""
   ]
  },
  {
   "cell_type": "code",
   "execution_count": 49,
   "metadata": {
    "collapsed": false
   },
   "outputs": [
    {
     "data": {
      "text/plain": [
       "<matplotlib.axes._subplots.AxesSubplot at 0xe22c5f8>"
      ]
     },
     "execution_count": 49,
     "metadata": {},
     "output_type": "execute_result"
    },
    {
     "data": {
      "image/png": "[encoded data removed]",
      "text/plain": [
       "<matplotlib.figure.Figure at 0xc0c82b0>"
      ]
     },
     "metadata": {},
     "output_type": "display_data"
    }
   ],
   "source": [
    "grouped.plot(kind='bar')"
   ]
  },
  {
   "cell_type": "markdown",
   "metadata": {
    "collapsed": true
   },
   "source": [
    "### 2. In hoeverre heeft de denominatie (katholiek, protestants etc.) invloed op de citoscore?"
   ]
  },
  {
   "cell_type": "code",
   "execution_count": 65,
   "metadata": {
    "collapsed": false
   },
   "outputs": [
    {
     "name": "stdout",
     "output_type": "stream",
     "text": [
      "Score vanaf de 525 grens\n"
     ]
    },
    {
     "data": {
      "text/plain": [
       "<matplotlib.axes._subplots.AxesSubplot at 0x14af3ef0>"
      ]
     },
     "execution_count": 65,
     "metadata": {},
     "output_type": "execute_result"
    },
    {
     "data": {
      "image/png": "[encoded data removed]",
      "text/plain": [
       "<matplotlib.figure.Figure at 0x1662a630>"
      ]
     },
     "metadata": {},
     "output_type": "display_data"
    }
   ],
   "source": [
    "data_2 = data_1.loc[:,['DENOMINATIE_VESTIGING', 'SCORE_2015']]\n",
    "data_2['SCORE_2015'] = data_2['SCORE_2015'].astype(float)\n",
    "data_2 = data_2.groupby(['DENOMINATIE_VESTIGING']).mean().sort_values(by='SCORE_2015',ascending=False)\n",
    "\n",
    "print \"Score vanaf de 525 grens\"\n",
    "data_2['SCORE_2015(VANAF 525)'] = data_2['SCORE_2015'] -525\n",
    "data_2['SCORE_2015(VANAF 525)'].plot(kind='bar')"
   ]
  },
  {
   "cell_type": "markdown",
   "metadata": {
    "collapsed": true
   },
   "source": [
    "### 3. Een voorspelling gebaseerd op de veranderingen van 2013 t/m 2015 gebaseerd op denominatie\n",
    "\n"
   ]
  },
  {
   "cell_type": "code",
   "execution_count": 66,
   "metadata": {
    "collapsed": false
   },
   "outputs": [
    {
     "data": {
      "text/html": [
       "<div>\n",
       "<table border=\"1\" class=\"dataframe\">\n",
       "  <thead>\n",
       "    <tr style=\"text-align: right;\">\n",
       "      <th></th>\n",
       "      <th>LEERJAAR_8</th>\n",
       "      <th>PLAATSNAAM</th>\n",
       "      <th>SCORE_2013</th>\n",
       "      <th>SCORE_2014</th>\n",
       "      <th>SCORE_2015</th>\n",
       "      <th>verwachtecito</th>\n",
       "      <th>DENOMINATIE_VESTIGING</th>\n",
       "      <th>VOORSPELLING</th>\n",
       "    </tr>\n",
       "  </thead>\n",
       "  <tbody>\n",
       "    <tr>\n",
       "      <th>267</th>\n",
       "      <td>7</td>\n",
       "      <td>VENLO</td>\n",
       "      <td>540.6</td>\n",
       "      <td>536.2</td>\n",
       "      <td>542.4</td>\n",
       "      <td>528,3563601</td>\n",
       "      <td>Rooms-Katholiek</td>\n",
       "      <td>543.30</td>\n",
       "    </tr>\n",
       "    <tr>\n",
       "      <th>269</th>\n",
       "      <td>28</td>\n",
       "      <td>STAPHORST</td>\n",
       "      <td>542.5</td>\n",
       "      <td>543.2</td>\n",
       "      <td>543.0</td>\n",
       "      <td>532,7647087</td>\n",
       "      <td>Reformatorisch</td>\n",
       "      <td>543.25</td>\n",
       "    </tr>\n",
       "    <tr>\n",
       "      <th>272</th>\n",
       "      <td>15</td>\n",
       "      <td>ACHTERVELD</td>\n",
       "      <td>549.2</td>\n",
       "      <td>545.5</td>\n",
       "      <td>539.4</td>\n",
       "      <td>535,2224858</td>\n",
       "      <td>Openbaar</td>\n",
       "      <td>534.50</td>\n",
       "    </tr>\n",
       "    <tr>\n",
       "      <th>273</th>\n",
       "      <td>21</td>\n",
       "      <td>'S-GRAVENHAGE</td>\n",
       "      <td>537.7</td>\n",
       "      <td>539.2</td>\n",
       "      <td>541.9</td>\n",
       "      <td>530,4942465</td>\n",
       "      <td>Algemeen bijzonder</td>\n",
       "      <td>544.00</td>\n",
       "    </tr>\n",
       "    <tr>\n",
       "      <th>274</th>\n",
       "      <td>39</td>\n",
       "      <td>RAALTE</td>\n",
       "      <td>545.7</td>\n",
       "      <td>545.2</td>\n",
       "      <td>544.0</td>\n",
       "      <td>536,1585287</td>\n",
       "      <td>Openbaar</td>\n",
       "      <td>543.15</td>\n",
       "    </tr>\n",
       "  </tbody>\n",
       "</table>\n",
       "</div>"
      ],
      "text/plain": [
       "     LEERJAAR_8     PLAATSNAAM SCORE_2013 SCORE_2014 SCORE_2015 verwachtecito  \\\n",
       "267           7          VENLO      540.6      536.2      542.4   528,3563601   \n",
       "269          28      STAPHORST      542.5      543.2      543.0   532,7647087   \n",
       "272          15     ACHTERVELD      549.2      545.5      539.4   535,2224858   \n",
       "273          21  'S-GRAVENHAGE      537.7      539.2      541.9   530,4942465   \n",
       "274          39         RAALTE      545.7      545.2      544.0   536,1585287   \n",
       "\n",
       "    DENOMINATIE_VESTIGING  VOORSPELLING  \n",
       "267       Rooms-Katholiek        543.30  \n",
       "269        Reformatorisch        543.25  \n",
       "272              Openbaar        534.50  \n",
       "273    Algemeen bijzonder        544.00  \n",
       "274              Openbaar        543.15  "
      ]
     },
     "execution_count": 66,
     "metadata": {},
     "output_type": "execute_result"
    }
   ],
   "source": [
    "\"\"\"\n",
    "t1 = 15\n",
    "t2 = 16\n",
    "t3 = 10\n",
    "\n",
    "differences t1 and t2 = 1\n",
    "differences t2 and t3 = -6\n",
    "mean of the difference is -2,5\n",
    "\n",
    "so t4 = t3+ ((t2-t1)+(t3-t2))/2\n",
    "\"\"\"\n",
    "data_3 = clean_data\n",
    "data_3['VOORSPELLING'] = data_3['SCORE_2015'].astype(float) +((data_3['SCORE_2014'].astype(float) - data_3['SCORE_2013'].astype(float)) + (data_3['SCORE_2015'].astype(float) - data_3['SCORE_2014'].astype(float)))/2\n",
    "\n",
    "data_3.head()"
   ]
  },
  {
   "cell_type": "code",
   "execution_count": 85,
   "metadata": {
    "collapsed": false
   },
   "outputs": [
    {
     "data": {
      "text/html": [
       "<div>\n",
       "<table border=\"1\" class=\"dataframe\">\n",
       "  <thead>\n",
       "    <tr style=\"text-align: right;\">\n",
       "      <th></th>\n",
       "      <th>VOORSPELLING</th>\n",
       "    </tr>\n",
       "    <tr>\n",
       "      <th>DENOMINATIE_VESTIGING</th>\n",
       "      <th></th>\n",
       "    </tr>\n",
       "  </thead>\n",
       "  <tbody>\n",
       "    <tr>\n",
       "      <th>Hindoeistisch</th>\n",
       "      <td>538.060000</td>\n",
       "    </tr>\n",
       "    <tr>\n",
       "      <th>Algemeen bijzonder</th>\n",
       "      <td>537.348603</td>\n",
       "    </tr>\n",
       "    <tr>\n",
       "      <th>Gereformeerd vrijgemaakt</th>\n",
       "      <td>536.727206</td>\n",
       "    </tr>\n",
       "    <tr>\n",
       "      <th>Reformatorisch</th>\n",
       "      <td>536.450450</td>\n",
       "    </tr>\n",
       "    <tr>\n",
       "      <th>Evangelisch</th>\n",
       "      <td>536.062500</td>\n",
       "    </tr>\n",
       "    <tr>\n",
       "      <th>Rooms-Katholiek</th>\n",
       "      <td>535.696017</td>\n",
       "    </tr>\n",
       "    <tr>\n",
       "      <th>Protestants-Christelijk</th>\n",
       "      <td>535.331047</td>\n",
       "    </tr>\n",
       "    <tr>\n",
       "      <th>Joods</th>\n",
       "      <td>535.150000</td>\n",
       "    </tr>\n",
       "    <tr>\n",
       "      <th>Antroposofisch</th>\n",
       "      <td>534.783333</td>\n",
       "    </tr>\n",
       "    <tr>\n",
       "      <th>Openbaar</th>\n",
       "      <td>534.385896</td>\n",
       "    </tr>\n",
       "    <tr>\n",
       "      <th>Samenwerking PC, RK</th>\n",
       "      <td>533.777027</td>\n",
       "    </tr>\n",
       "    <tr>\n",
       "      <th>Interconfessioneel</th>\n",
       "      <td>533.175000</td>\n",
       "    </tr>\n",
       "    <tr>\n",
       "      <th>Islamitisch</th>\n",
       "      <td>532.777941</td>\n",
       "    </tr>\n",
       "    <tr>\n",
       "      <th>Samenwerking Opb., RK</th>\n",
       "      <td>531.450000</td>\n",
       "    </tr>\n",
       "    <tr>\n",
       "      <th>Samenwerking Opb., PC</th>\n",
       "      <td>528.300000</td>\n",
       "    </tr>\n",
       "  </tbody>\n",
       "</table>\n",
       "</div>"
      ],
      "text/plain": [
       "                          VOORSPELLING\n",
       "DENOMINATIE_VESTIGING                 \n",
       "Hindoeistisch               538.060000\n",
       "Algemeen bijzonder          537.348603\n",
       "Gereformeerd vrijgemaakt    536.727206\n",
       "Reformatorisch              536.450450\n",
       "Evangelisch                 536.062500\n",
       "Rooms-Katholiek             535.696017\n",
       "Protestants-Christelijk     535.331047\n",
       "Joods                       535.150000\n",
       "Antroposofisch              534.783333\n",
       "Openbaar                    534.385896\n",
       "Samenwerking PC, RK         533.777027\n",
       "Interconfessioneel          533.175000\n",
       "Islamitisch                 532.777941\n",
       "Samenwerking Opb., RK       531.450000\n",
       "Samenwerking Opb., PC       528.300000"
      ]
     },
     "execution_count": 85,
     "metadata": {},
     "output_type": "execute_result"
    }
   ],
   "source": [
    "voorspelling = data_3.groupby(['DENOMINATIE_VESTIGING']).mean().loc[:,['VOORSPELLING']].sort_values(by='VOORSPELLING',ascending=False)\n",
    "voorspelling"
   ]
  },
  {
   "cell_type": "markdown",
   "metadata": {
    "collapsed": true
   },
   "source": [
    "### 4. Welke scholen in Nederland hebben de laagste kwaliteit?"
   ]
  },
  {
   "cell_type": "code",
   "execution_count": 67,
   "metadata": {
    "collapsed": false
   },
   "outputs": [
    {
     "data": {
      "text/html": [
       "<div>\n",
       "<table border=\"1\" class=\"dataframe\">\n",
       "  <thead>\n",
       "    <tr style=\"text-align: right;\">\n",
       "      <th></th>\n",
       "      <th>DENOMINATIE_VESTIGING</th>\n",
       "      <th>SCORE_2015</th>\n",
       "      <th>KWALITEIT</th>\n",
       "    </tr>\n",
       "  </thead>\n",
       "  <tbody>\n",
       "    <tr>\n",
       "      <th>6590</th>\n",
       "      <td>Rooms-Katholiek</td>\n",
       "      <td>514.7</td>\n",
       "      <td>-20.418931</td>\n",
       "    </tr>\n",
       "    <tr>\n",
       "      <th>6617</th>\n",
       "      <td>Openbaar</td>\n",
       "      <td>515.1</td>\n",
       "      <td>-20.018931</td>\n",
       "    </tr>\n",
       "    <tr>\n",
       "      <th>6597</th>\n",
       "      <td>Samenwerking PC, RK</td>\n",
       "      <td>518.9</td>\n",
       "      <td>-16.218931</td>\n",
       "    </tr>\n",
       "    <tr>\n",
       "      <th>6612</th>\n",
       "      <td>Openbaar</td>\n",
       "      <td>519.1</td>\n",
       "      <td>-16.018931</td>\n",
       "    </tr>\n",
       "    <tr>\n",
       "      <th>6476</th>\n",
       "      <td>Openbaar</td>\n",
       "      <td>519.2</td>\n",
       "      <td>-15.918931</td>\n",
       "    </tr>\n",
       "  </tbody>\n",
       "</table>\n",
       "</div>"
      ],
      "text/plain": [
       "     DENOMINATIE_VESTIGING SCORE_2015  KWALITEIT\n",
       "6590       Rooms-Katholiek      514.7 -20.418931\n",
       "6617              Openbaar      515.1 -20.018931\n",
       "6597   Samenwerking PC, RK      518.9 -16.218931\n",
       "6612              Openbaar      519.1 -16.018931\n",
       "6476              Openbaar      519.2 -15.918931"
      ]
     },
     "execution_count": 67,
     "metadata": {},
     "output_type": "execute_result"
    }
   ],
   "source": [
    "# kwaliteit is dus een score vanaf gemiddelde meten\n",
    "\n",
    "data_4 = clean_data.loc[:,['DENOMINATIE_VESTIGING','SCORE_2015']]\n",
    "# difference between score 2015 and the mean\n",
    "data_4['KWALITEIT'] = data_4['SCORE_2015'].astype(float) - data_4['SCORE_2015'].astype(float).mean()\n",
    "\n",
    "data_4.sort_values(by='KWALITEIT',ascending=True).head()"
   ]
  },
  {
   "cell_type": "markdown",
   "metadata": {
    "collapsed": true
   },
   "source": [
    "### Welke scholen in Nederland hebben de hoogste kwaliteit?"
   ]
  },
  {
   "cell_type": "code",
   "execution_count": 53,
   "metadata": {
    "collapsed": false
   },
   "outputs": [
    {
     "data": {
      "text/html": [
       "<div>\n",
       "<table border=\"1\" class=\"dataframe\">\n",
       "  <thead>\n",
       "    <tr style=\"text-align: right;\">\n",
       "      <th></th>\n",
       "      <th>DENOMINATIE_VESTIGING</th>\n",
       "      <th>SCORE_2015</th>\n",
       "      <th>KWALITEIT</th>\n",
       "    </tr>\n",
       "  </thead>\n",
       "  <tbody>\n",
       "    <tr>\n",
       "      <th>312</th>\n",
       "      <td>Algemeen bijzonder</td>\n",
       "      <td>546.2</td>\n",
       "      <td>11.081069</td>\n",
       "    </tr>\n",
       "    <tr>\n",
       "      <th>363</th>\n",
       "      <td>Algemeen bijzonder</td>\n",
       "      <td>546.0</td>\n",
       "      <td>10.881069</td>\n",
       "    </tr>\n",
       "    <tr>\n",
       "      <th>317</th>\n",
       "      <td>Openbaar</td>\n",
       "      <td>545.7</td>\n",
       "      <td>10.581069</td>\n",
       "    </tr>\n",
       "    <tr>\n",
       "      <th>397</th>\n",
       "      <td>Algemeen bijzonder</td>\n",
       "      <td>545.7</td>\n",
       "      <td>10.581069</td>\n",
       "    </tr>\n",
       "    <tr>\n",
       "      <th>308</th>\n",
       "      <td>Rooms-Katholiek</td>\n",
       "      <td>545.6</td>\n",
       "      <td>10.481069</td>\n",
       "    </tr>\n",
       "  </tbody>\n",
       "</table>\n",
       "</div>"
      ],
      "text/plain": [
       "    DENOMINATIE_VESTIGING SCORE_2015  KWALITEIT\n",
       "312    Algemeen bijzonder      546.2  11.081069\n",
       "363    Algemeen bijzonder      546.0  10.881069\n",
       "317              Openbaar      545.7  10.581069\n",
       "397    Algemeen bijzonder      545.7  10.581069\n",
       "308       Rooms-Katholiek      545.6  10.481069"
      ]
     },
     "execution_count": 53,
     "metadata": {},
     "output_type": "execute_result"
    }
   ],
   "source": [
    "data_4.sort_values(by='KWALITEIT',ascending=False).head()"
   ]
  },
  {
   "cell_type": "markdown",
   "metadata": {},
   "source": [
    "### 5. En gebaseerd op denominatie?"
   ]
  },
  {
   "cell_type": "code",
   "execution_count": 68,
   "metadata": {
    "collapsed": false
   },
   "outputs": [
    {
     "data": {
      "text/html": [
       "<div>\n",
       "<table border=\"1\" class=\"dataframe\">\n",
       "  <thead>\n",
       "    <tr style=\"text-align: right;\">\n",
       "      <th></th>\n",
       "      <th>KWALITEIT</th>\n",
       "    </tr>\n",
       "    <tr>\n",
       "      <th>DENOMINATIE_VESTIGING</th>\n",
       "      <th></th>\n",
       "    </tr>\n",
       "  </thead>\n",
       "  <tbody>\n",
       "    <tr>\n",
       "      <th>Algemeen bijzonder</th>\n",
       "      <td>2.240287</td>\n",
       "    </tr>\n",
       "    <tr>\n",
       "      <th>Hindoeistisch</th>\n",
       "      <td>1.281069</td>\n",
       "    </tr>\n",
       "    <tr>\n",
       "      <th>Reformatorisch</th>\n",
       "      <td>1.242330</td>\n",
       "    </tr>\n",
       "    <tr>\n",
       "      <th>Gereformeerd vrijgemaakt</th>\n",
       "      <td>1.211952</td>\n",
       "    </tr>\n",
       "    <tr>\n",
       "      <th>Antroposofisch</th>\n",
       "      <td>0.814403</td>\n",
       "    </tr>\n",
       "    <tr>\n",
       "      <th>Rooms-Katholiek</th>\n",
       "      <td>0.389295</td>\n",
       "    </tr>\n",
       "    <tr>\n",
       "      <th>Evangelisch</th>\n",
       "      <td>0.256069</td>\n",
       "    </tr>\n",
       "    <tr>\n",
       "      <th>Protestants-Christelijk</th>\n",
       "      <td>0.143163</td>\n",
       "    </tr>\n",
       "    <tr>\n",
       "      <th>Openbaar</th>\n",
       "      <td>-0.841443</td>\n",
       "    </tr>\n",
       "    <tr>\n",
       "      <th>Joods</th>\n",
       "      <td>-1.068931</td>\n",
       "    </tr>\n",
       "    <tr>\n",
       "      <th>Samenwerking PC, RK</th>\n",
       "      <td>-1.170282</td>\n",
       "    </tr>\n",
       "    <tr>\n",
       "      <th>Interconfessioneel</th>\n",
       "      <td>-2.193931</td>\n",
       "    </tr>\n",
       "    <tr>\n",
       "      <th>Islamitisch</th>\n",
       "      <td>-2.754225</td>\n",
       "    </tr>\n",
       "    <tr>\n",
       "      <th>Samenwerking Opb., RK</th>\n",
       "      <td>-2.918931</td>\n",
       "    </tr>\n",
       "    <tr>\n",
       "      <th>Samenwerking Opb., PC</th>\n",
       "      <td>-5.368931</td>\n",
       "    </tr>\n",
       "  </tbody>\n",
       "</table>\n",
       "</div>"
      ],
      "text/plain": [
       "                          KWALITEIT\n",
       "DENOMINATIE_VESTIGING              \n",
       "Algemeen bijzonder         2.240287\n",
       "Hindoeistisch              1.281069\n",
       "Reformatorisch             1.242330\n",
       "Gereformeerd vrijgemaakt   1.211952\n",
       "Antroposofisch             0.814403\n",
       "Rooms-Katholiek            0.389295\n",
       "Evangelisch                0.256069\n",
       "Protestants-Christelijk    0.143163\n",
       "Openbaar                  -0.841443\n",
       "Joods                     -1.068931\n",
       "Samenwerking PC, RK       -1.170282\n",
       "Interconfessioneel        -2.193931\n",
       "Islamitisch               -2.754225\n",
       "Samenwerking Opb., RK     -2.918931\n",
       "Samenwerking Opb., PC     -5.368931"
      ]
     },
     "execution_count": 68,
     "metadata": {},
     "output_type": "execute_result"
    }
   ],
   "source": [
    "grouped2 = data_4.groupby(['DENOMINATIE_VESTIGING']).mean().sort_values(by='KWALITEIT',ascending=False)\n",
    "grouped2"
   ]
  },
  {
   "cell_type": "code",
   "execution_count": 69,
   "metadata": {
    "collapsed": false
   },
   "outputs": [
    {
     "data": {
      "text/plain": [
       "<matplotlib.axes._subplots.AxesSubplot at 0x12b96dd8>"
      ]
     },
     "execution_count": 69,
     "metadata": {},
     "output_type": "execute_result"
    },
    {
     "data": {
      "image/png": "[encoded data removed]",
      "text/plain": [
       "<matplotlib.figure.Figure at 0xc0d8f60>"
      ]
     },
     "metadata": {},
     "output_type": "display_data"
    }
   ],
   "source": [
    "grouped2.plot(kind='bar')"
   ]
  },
  {
   "cell_type": "markdown",
   "metadata": {
    "collapsed": true
   },
   "source": []
  },
  {
   "cell_type": "code",
   "execution_count": null,
   "metadata": {
    "collapsed": false
   },
   "outputs": [],
   "source": []
  },
  {
   "cell_type": "code",
   "execution_count": null,
   "metadata": {
    "collapsed": true
   },
   "outputs": [],
   "source": []
  }
 ],
 "metadata": {
  "kernelspec": {
   "display_name": "Python 2",
   "language": "python",
   "name": "python2"
  },
  "language_info": {
   "codemirror_mode": {
    "name": "ipython",
    "version": 2
   },
   "file_extension": ".py",
   "mimetype": "text/x-python",
   "name": "python",
   "nbconvert_exporter": "python",
   "pygments_lexer": "ipython2",
   "version": "2.7.11"
  }
 },
 "nbformat": 4,
 "nbformat_minor": 0
}
